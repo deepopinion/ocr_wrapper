{
 "cells": [
  {
   "cell_type": "code",
   "execution_count": null,
   "metadata": {},
   "outputs": [],
   "source": [
    "import os\n",
    "from concurrent.futures import ThreadPoolExecutor\n",
    "\n",
    "from PIL import Image\n",
    "\n",
    "from ocr_wrapper import GoogleOCR, draw_bboxes\n",
    "from time import perf_counter_ns\n",
    "\n",
    "def main(imgs, denoise: bool):\n",
    "    ocr_client = GoogleOCR(ocr_samples=2)\n",
    "    with ThreadPoolExecutor(max_workers=64) as executor:\n",
    "        futures = [executor.submit(ocr_client.ocr, img, denoise=denoise) for img in imgs]\n",
    "    results = [future.result() for future in futures]\n",
    "    return results"
   ]
  },
  {
   "cell_type": "code",
   "execution_count": null,
   "metadata": {},
   "outputs": [],
   "source": [
    "img_names = os.listdir(\"imgs\")[:1]\n",
    "img_files = [Image.open(f\"imgs/{f}\") for f in img_names]"
   ]
  },
  {
   "cell_type": "code",
   "execution_count": null,
   "metadata": {},
   "outputs": [],
   "source": [
    "start = perf_counter_ns()\n",
    "#res1 = main(img_files, denoise=False)\n",
    "res2 = main(img_files, denoise=True)\n",
    "print(f\"Time: {(perf_counter_ns() - start) / 1e6} ms\")"
   ]
  },
  {
   "cell_type": "code",
   "execution_count": null,
   "metadata": {},
   "outputs": [],
   "source": [
    "for img, r1, r2 in zip(img_files, res1, res2):\n",
    "    im = Image.new(\"RGB\", (1600, 800), (255, 255, 255))\n",
    "    im1 = draw_bboxes(img, r1).resize((800, 800))\n",
    "    im2 = draw_bboxes(img, r2).resize((800, 800))\n",
    "\n",
    "    im.paste(im1, (0, 0))\n",
    "    im.paste(im2, (800, 0))\n",
    "im"
   ]
  },
  {
   "cell_type": "code",
   "execution_count": null,
   "metadata": {},
   "outputs": [],
   "source": [
    "import numpy as np\n",
    "import cv2\n",
    "from cv2 import fastNlMeansDenoising"
   ]
  },
  {
   "cell_type": "code",
   "execution_count": null,
   "metadata": {},
   "outputs": [],
   "source": [
    "from collections import defaultdict\n",
    "from cv2 import fastNlMeansDenoisingColored\n",
    "from tqdm import tqdm\n",
    "\n",
    "im = np.array(img_files[0])\n",
    "im = cv2.cvtColor(im, cv2.COLOR_RGB2BGR)\n",
    "res = defaultdict(list)\n",
    "for nthread in tqdm(range(0, 13, 2)):\n",
    "    cv2.setNumThreads(nthread)\n",
    "    for i in range(3):\n",
    "        start = perf_counter_ns()\n",
    "        denoised = fastNlMeansDenoisingColored(im, None, h=10, hColor=10, templateWindowSize=7, searchWindowSize=21)\n",
    "        res[nthread].append(perf_counter_ns() - start)"
   ]
  },
  {
   "cell_type": "code",
   "execution_count": null,
   "metadata": {},
   "outputs": [],
   "source": [
    "import matplotlib.pyplot as plt\n",
    "\n",
    "baseline = np.mean(res[0])\n",
    "plt.plot(res.keys(), [baseline / np.mean(v) for v in res.values()])\n",
    "plt.xlabel(\"nthread\")\n",
    "plt.ylabel(\"speedup\")"
   ]
  },
  {
   "cell_type": "code",
   "execution_count": null,
   "metadata": {},
   "outputs": [],
   "source": [
    "res"
   ]
  },
  {
   "cell_type": "code",
   "execution_count": null,
   "metadata": {},
   "outputs": [],
   "source": []
  }
 ],
 "metadata": {
  "kernelspec": {
   "display_name": "venv",
   "language": "python",
   "name": "python3"
  },
  "language_info": {
   "codemirror_mode": {
    "name": "ipython",
    "version": 3
   },
   "file_extension": ".py",
   "mimetype": "text/x-python",
   "name": "python",
   "nbconvert_exporter": "python",
   "pygments_lexer": "ipython3",
   "version": "3.11.7"
  }
 },
 "nbformat": 4,
 "nbformat_minor": 2
}

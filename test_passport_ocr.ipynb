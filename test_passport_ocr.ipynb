{
 "cells": [
  {
   "cell_type": "code",
   "execution_count": null,
   "metadata": {},
   "outputs": [],
   "source": [
    "import os\n",
    "import json\n",
    "from PIL import Image\n",
    "from concurrent.futures import ThreadPoolExecutor\n",
    "from ocr_wrapper import GoogleOCR, draw_bboxes, BBox"
   ]
  },
  {
   "cell_type": "code",
   "execution_count": null,
   "metadata": {},
   "outputs": [],
   "source": [
    "items = os.walk(\"imgs\")\n",
    "all_files = []\n",
    "for root, dirs, files in items:\n",
    "    for file in files:\n",
    "        all_files.append(os.path.join(root, file))"
   ]
  },
  {
   "cell_type": "code",
   "execution_count": null,
   "metadata": {},
   "outputs": [],
   "source": [
    "ocr = GoogleOCR() # Create client"
   ]
  },
  {
   "cell_type": "code",
   "execution_count": null,
   "metadata": {},
   "outputs": [],
   "source": [
    "def process_image(img_path):\n",
    "    img = Image.open(img_path)\n",
    "    print(\"Processing image: \", img_path)\n",
    "    bboxes = ocr.ocr(img, denoise=False)\n",
    "    return bboxes"
   ]
  },
  {
   "cell_type": "code",
   "execution_count": null,
   "metadata": {},
   "outputs": [],
   "source": [
    "r = {}\n",
    "for img_path in all_files:\n",
    "    try:\n",
    "        r[img_path] = process_image(img_path)\n",
    "    except:\n",
    "        print(\"Error processing image: \", img_path)\n",
    "    break"
   ]
  },
  {
   "cell_type": "code",
   "execution_count": null,
   "metadata": {},
   "outputs": [],
   "source": [
    "r = {}\n",
    "with ThreadPoolExecutor(max_workers=12) as executor:\n",
    "    futures = executor.map(process_image, all_files)\n",
    "    for img_path, future in zip(all_files, futures):\n",
    "        try:\n",
    "            r[img_path] = future\n",
    "        except:\n",
    "            print(\"Error processing image: \", img_path)"
   ]
  },
  {
   "cell_type": "code",
   "execution_count": null,
   "metadata": {},
   "outputs": [],
   "source": [
    "class BBoxEncoder(json.JSONEncoder):\n",
    "    def default(self, obj):\n",
    "        if isinstance(obj, BBox):\n",
    "            return obj.__dict__\n",
    "        return super().default(obj)\n",
    "\n",
    "with open(\"passport_bboxes_no_denoise.json\", \"w\") as f:\n",
    "    json.dump(r, f, indent=4, cls=BBoxEncoder)"
   ]
  },
  {
   "cell_type": "code",
   "execution_count": null,
   "metadata": {},
   "outputs": [],
   "source": [
    "with open(\"passport_bboxes_original.json\", \"r\") as f:\n",
    "    original = json.load(f)\n",
    "\n",
    "with open(\"passport_bboxes_no_denoise.json\", \"r\") as f:\n",
    "    no_denoise = json.load(f)\n",
    "\n",
    "all_keys = set(original.keys()) & set(no_denoise.keys())"
   ]
  },
  {
   "cell_type": "code",
   "execution_count": null,
   "metadata": {},
   "outputs": [],
   "source": [
    "from dataclasses import fields\n",
    "from tqdm import tqdm\n",
    "\n",
    "def draw(im, bbox_dicts: list[dict]):\n",
    "    bboxes_orig = [BBox(**{k:v for k, v  in b.items() if k in [f.name for f in fields(BBox)]}) for b in bbox_dicts]\n",
    "    annd = draw_bboxes(\n",
    "        img=im, \n",
    "        bboxes=bboxes_orig,\n",
    "        texts=[str(b.text) for b in bboxes_orig],\n",
    "        strokewidths=2, # Could also be a list for each bbox\n",
    "        fontsize=12,  # Could also be a list for each bbox\n",
    "        # colors could also be a string for all bboxes\n",
    "        colors=\"purple\"\n",
    "    )\n",
    "    return annd\n",
    "\n",
    "for k in tqdm(all_keys):\n",
    "    try:\n",
    "        new_filename = k.replace(\"imgs\", \"imgs_comparison\")\n",
    "        if os.path.exists(new_filename):\n",
    "            continue\n",
    "        im = Image.open(k)\n",
    "\n",
    "        ann_original = draw(im, original[k])\n",
    "        ann_no_desnoise = draw(im, no_denoise[k])\n",
    "        complete = Image.new(\"RGB\", (ann_original.width + ann_no_desnoise.width, ann_original.height))\n",
    "        complete.paste(ann_original, (0,0))\n",
    "        complete.paste(ann_no_desnoise, (ann_original.width, 0))\n",
    "        os.makedirs(os.path.dirname(new_filename), exist_ok=True)\n",
    "        complete.save(new_filename)\n",
    "    except Exception as e:\n",
    "        print(\"Error processing image: \", k)\n",
    "        continue"
   ]
  },
  {
   "cell_type": "code",
   "execution_count": null,
   "metadata": {},
   "outputs": [],
   "source": []
  }
 ],
 "metadata": {
  "kernelspec": {
   "display_name": "venv",
   "language": "python",
   "name": "python3"
  },
  "language_info": {
   "codemirror_mode": {
    "name": "ipython",
    "version": 3
   },
   "file_extension": ".py",
   "mimetype": "text/x-python",
   "name": "python",
   "nbconvert_exporter": "python",
   "pygments_lexer": "ipython3",
   "version": "3.11.7"
  }
 },
 "nbformat": 4,
 "nbformat_minor": 2
}
